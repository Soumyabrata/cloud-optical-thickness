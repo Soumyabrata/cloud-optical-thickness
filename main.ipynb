{
 "cells": [
  {
   "cell_type": "markdown",
   "metadata": {},
   "source": [
    "### Import the libraries"
   ]
  },
  {
   "cell_type": "code",
   "execution_count": 1,
   "metadata": {
    "collapsed": true
   },
   "outputs": [],
   "source": [
    "import cv2\n",
    "import matplotlib\n",
    "import numpy as np\n",
    "import matplotlib.pyplot as plt\n",
    "%matplotlib inline\n",
    "import csv\n",
    "import datetime\n",
    "from glob import glob\n",
    "import os\n",
    "import exifread\n",
    "import scipy.ndimage.interpolation\n",
    "from pysolar.solar import *\n",
    "import scipy.io\n",
    "\n",
    "import matplotlib as mpl\n",
    "mpl.style.use('classic')\n",
    "mpl.rc(\"figure\", facecolor=\"white\")\n",
    "\n",
    "# User defined functions\n",
    "from normalize_array import *"
   ]
  },
  {
   "cell_type": "markdown",
   "metadata": {},
   "source": [
    "### MODIS data\n",
    "\n",
    "This section loads the pre-computed COT values from MODIS satellite images. It is done via the MATLAB function *something.m*. It computes the stores MOD and MYD data for the year 2015. The various parameters are day number, time, and the average COT value. "
   ]
  },
  {
   "cell_type": "code",
   "execution_count": 2,
   "metadata": {
    "collapsed": true
   },
   "outputs": [],
   "source": [
    "file_path1a = \"./COT/MOD2015_DOY.txt\"\n",
    "file_path2a = \"./COT/MOD2015_Time.txt\"\n",
    "file_path3a = \"./COT/MOD2015_AvgCOT.txt\"\n",
    "\n",
    "file_path1b = \"./COT/MYD2015_DOY.txt\"\n",
    "file_path2b = \"./COT/MYD2015_Time.txt\"\n",
    "file_path3b = \"./COT/MYD2015_AvgCOT.txt\""
   ]
  },
  {
   "cell_type": "markdown",
   "metadata": {},
   "source": [
    "### Reading the MODIS data into individual dictionaries "
   ]
  },
  {
   "cell_type": "code",
   "execution_count": 3,
   "metadata": {
    "collapsed": true
   },
   "outputs": [],
   "source": [
    "input_file1a = csv.DictReader(open(file_path1a), fieldnames = [\"DOY\"])\n",
    "input_file2a = csv.DictReader(open(file_path2a), fieldnames = [\"Time\"])\n",
    "input_file3a = csv.DictReader(open(file_path3a), fieldnames = [\"COT\"])\n",
    "\n",
    "input_file1b = csv.DictReader(open(file_path1b), fieldnames = [\"DOY\"])\n",
    "input_file2b = csv.DictReader(open(file_path2b), fieldnames = [\"Time\"])\n",
    "input_file3b = csv.DictReader(open(file_path3b), fieldnames = [\"COT\"])"
   ]
  },
  {
   "cell_type": "markdown",
   "metadata": {},
   "source": [
    "### Accessing the MOD data"
   ]
  },
  {
   "cell_type": "code",
   "execution_count": 4,
   "metadata": {
    "collapsed": true
   },
   "outputs": [],
   "source": [
    "MOD_DOY = []\n",
    "MOD_date = []\n",
    "MOD_time = []\n",
    "MOD_COT = []\n",
    "\n",
    "for i,row in enumerate(input_file1a):\n",
    "    DOY_item = int(row[\"DOY\"])\n",
    "    date_object = datetime.datetime(2015, 1, 1) + datetime.timedelta(DOY_item - 1)\n",
    "    date_item = str(date_object.year)+'-'+str(date_object.month)+'-'+str(date_object.day)\n",
    "    \n",
    "    MOD_DOY.append(DOY_item)\n",
    "    MOD_date.append(date_item)\n",
    "    \n",
    "    \n",
    "for row in input_file2a:\n",
    "    time_item = row[\"Time\"]\n",
    "    time_item = time_item[5:-1]\n",
    "    MOD_time.append(time_item)\n",
    "    \n",
    "    \n",
    "for row in input_file3a:\n",
    "    cot_item = float(row[\"COT\"])\n",
    "    MOD_COT.append(cot_item)"
   ]
  },
  {
   "cell_type": "markdown",
   "metadata": {},
   "source": [
    "### Accessing the MYD data"
   ]
  },
  {
   "cell_type": "code",
   "execution_count": 5,
   "metadata": {
    "collapsed": true
   },
   "outputs": [],
   "source": [
    "MYD_DOY = []\n",
    "MYD_date = []\n",
    "MYD_time = []\n",
    "MYD_COT = []\n",
    "\n",
    "for i,row in enumerate(input_file1b):\n",
    "    DOY_item = int(row[\"DOY\"])\n",
    "    date_object = datetime.datetime(2015, 1, 1) + datetime.timedelta(DOY_item - 1)\n",
    "    date_item = str(date_object.year)+'-'+str(date_object.month)+'-'+str(date_object.day)\n",
    "    \n",
    "    MYD_DOY.append(DOY_item)\n",
    "    MYD_date.append(date_item)\n",
    "    \n",
    "    \n",
    "for row in input_file2b:\n",
    "    time_item = row[\"Time\"]\n",
    "    time_item = time_item[5:-1]\n",
    "    MYD_time.append(time_item)\n",
    "    \n",
    "    \n",
    "for row in input_file3b:\n",
    "    cot_item = float(row[\"COT\"])\n",
    "    MYD_COT.append(cot_item)"
   ]
  },
  {
   "cell_type": "markdown",
   "metadata": {},
   "source": [
    "### Combining the MOD and MYD data into a combined COT file"
   ]
  },
  {
   "cell_type": "code",
   "execution_count": 6,
   "metadata": {
    "collapsed": true
   },
   "outputs": [],
   "source": [
    "file_name = './COT/combined/COT2015.txt'\n",
    "text_file = open(file_name, \"w\")\n",
    "\n",
    "# Header line\n",
    "text_file.write(\"DayNumber,Date,Time,COT\\n\") \n",
    "\n",
    "for i,item in enumerate(MOD_DOY):\n",
    "    text_file.write(\"%d,%s,%s,%s\\n\" %(item, MOD_date[i], MOD_time[i], MOD_COT[i]))\n",
    "    \n",
    "for i,item in enumerate(MYD_DOY):\n",
    "    text_file.write(\"%d,%s,%s,%s\\n\" %(item, MYD_date[i], MYD_time[i], MYD_COT[i]))\n",
    "    \n",
    "text_file.close()"
   ]
  },
  {
   "cell_type": "markdown",
   "metadata": {},
   "source": [
    "### Luminance from sky cameras\n",
    "\n",
    "We compute the average luminance value of all the ground-based sky camera images, that are within +/- 15 minutes of the MODIS image timestamp. This luminance pre-computation is done using the python script *calculate_luminance.py*. It uses various helper functions viz. *cmask.py*, *find_sun.py*, *nearest.py*, *SG_solarmodel.py* to compute the average luminance.\n",
    "\n",
    "Please refer the Git repository <a href=\"https://github.com/Soumyabrata/solar-irradiance-estimation\">solar-irradiance-estimation</a> for more extensive details on luminance calculation from sky camera images. \n",
    "\n",
    "The following section reads the average luminance file, and populates the corresponding COT value for further analysis."
   ]
  },
  {
   "cell_type": "code",
   "execution_count": 7,
   "metadata": {},
   "outputs": [
    {
     "name": "stdout",
     "output_type": "stream",
     "text": [
      "The total number of common observations of luminance and COT is 199\n"
     ]
    }
   ],
   "source": [
    "# average value of 3X3 COT values, and average luminance between +-15 mins\n",
    "CSV_file = './average_luminance/2015data.txt'\n",
    "\n",
    "with open(CSV_file) as f: #f is a file header\n",
    "    reader = csv.reader(f, delimiter=\",\")\n",
    "    d = list(reader) # d is a list of list here.\n",
    "    \n",
    "LuminanceAll = []\n",
    "COTAll = []\n",
    "CSRAll = []\n",
    "CSLAll = []\n",
    "TimeAll = []\n",
    "\n",
    "for item in d[1:]:\n",
    "    ImageTime = item[1]\n",
    "    MODISTime = item[2]\n",
    "    Luminance = float(item[3])\n",
    "    COT = float(item[4])\n",
    "    CSR = float(item[5])\n",
    "    CSL = float(item[6])\n",
    "    \n",
    "    LuminanceAll.append(Luminance)\n",
    "    COTAll.append(COT)\n",
    "    CSRAll.append(CSR)\n",
    "    CSLAll.append(CSL)\n",
    "    \n",
    "    #Find the datetime object\n",
    "    TimeObject = ImageTime.split(\" \")\n",
    "    DatePart = TimeObject[0]\n",
    "    DP = DatePart.split(\"-\")\n",
    "    YY = DP[0]\n",
    "    MM = DP[1]\n",
    "    DD = DP[2]\n",
    "    \n",
    "    TimePart = TimeObject[1]\n",
    "    TP = TimePart.split(\":\")\n",
    "    HH = TP[0]\n",
    "    MINT = TP[1]\n",
    "    SEC = TP[2]\n",
    "    time_now = datetime.datetime(int(YY),int(MM),int(DD),int(HH),int(MINT),int(SEC))\n",
    "    TimeAll.append(time_now)\n",
    "    \n",
    "print ('The total number of common observations of luminance and COT is', len(COTAll))"
   ]
  },
  {
   "cell_type": "markdown",
   "metadata": {},
   "source": [
    "### Computing the luminance difference"
   ]
  },
  {
   "cell_type": "code",
   "execution_count": 8,
   "metadata": {},
   "outputs": [],
   "source": [
    "COT_values = COTAll\n",
    "luminance_diff = np.abs((np.array(CSLAll)) - (np.array(LuminanceAll)))"
   ]
  },
  {
   "cell_type": "markdown",
   "metadata": {},
   "source": [
    "### Pre-processing the data\n",
    "\n",
    "There might be a few spurious data in the data sample, and therefore we need to pre-process them. The maximum allowable value for COT is 100. In case, there are any samples that are greater than 100, we truncate them back to 100. We also remove *nans* from luminance difference data points. We also reject outliers."
   ]
  },
  {
   "cell_type": "code",
   "execution_count": 11,
   "metadata": {},
   "outputs": [
    {
     "name": "stdout",
     "output_type": "stream",
     "text": [
      "Data cleaned.\n"
     ]
    }
   ],
   "source": [
    "#Any COT above 100, truncate it to 100\n",
    "COTAll = np.asarray(COTAll)\n",
    "h_index = np.where(COTAll > 100)\n",
    "h_index = h_index[0]\n",
    "COTAll[h_index] = 100\n",
    "\n",
    "# Removing nans\n",
    "indexes = ~np.isnan(luminance_diff)\n",
    "luminance_diff = luminance_diff[indexes]\n",
    "COT_values = np.array(COT_values)\n",
    "COT_values = COT_values[indexes]\n",
    "\n",
    "# Removing outlier points\n",
    "del_index = np.where( np.array(luminance_diff) > 400000 )\n",
    "COT_values = np.delete(COT_values, del_index)\n",
    "luminance_diff = np.delete(luminance_diff, del_index)\n",
    "TimeAll = np.delete(TimeAll, del_index)\n",
    "\n",
    "print ('Data cleaned.')"
   ]
  },
  {
   "cell_type": "code",
   "execution_count": 12,
   "metadata": {},
   "outputs": [
    {
     "data": {
      "image/png": "[encoded data removed]",
      "text/plain": [
       "<matplotlib.figure.Figure at 0x10e2af0f0>"
      ]
     },
     "metadata": {},
     "output_type": "display_data"
    }
   ],
   "source": [
    "fig = plt.figure(1,figsize=(5, 4)) \n",
    "plt.scatter( normalize_array(luminance_diff), COT_values, marker='o' , linewidths=0.4 , alpha = 0.6 , color = 'r')\n",
    "plt.xlabel('Normalized Luminance Difference (from sky cameras)', fontsize=11)\n",
    "plt.ylabel('Cloud Optical Thickness (from MODIS)', fontsize=11)\n",
    "plt.grid(b=None, which='major', axis='both')\n",
    "plt.xlim((0,1))\n",
    "plt.ylim((0,100))\n",
    "plt.tight_layout()\n",
    "plt.savefig('./figs/COT.pdf', format='pdf')\n",
    "plt.show()"
   ]
  }
 ],
 "metadata": {
  "kernelspec": {
   "display_name": "Python 3",
   "language": "python",
   "name": "python3"
  },
  "language_info": {
   "codemirror_mode": {
    "name": "ipython",
    "version": 3
   },
   "file_extension": ".py",
   "mimetype": "text/x-python",
   "name": "python",
   "nbconvert_exporter": "python",
   "pygments_lexer": "ipython3",
   "version": "3.6.1"
  }
 },
 "nbformat": 4,
 "nbformat_minor": 2
}
